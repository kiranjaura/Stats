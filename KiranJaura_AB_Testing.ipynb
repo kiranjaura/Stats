{
 "cells": [
  {
   "cell_type": "markdown",
   "id": "a124dca9",
   "metadata": {},
   "source": [
    "# A/B Testing Analysis in Python\n",
    "## Kiran Jaura \n",
    "## EPPS 6317 Final"
   ]
  },
  {
   "cell_type": "markdown",
   "id": "5ebafad8",
   "metadata": {},
   "source": [
    "### A/B Testing:\n",
    "* Used to understand whether a different version of something is the better alternative\n",
    "    * Example: webpage design #1 vs webpage design #2\n",
    "* Limit version change between A and B to ensure there are not multiple factors/interactions at play\n",
    "\n",
    "### Assumptions:\n",
    "* Observations are independent from each other\n",
    "* Normal approximation of binomial distributions\n",
    "    * Binomial because we are testing proportion of success or failure (binary)\n",
    "        * Example: converted customer (0 or 1)\n",
    "        \n",
    "### Python App Limitations:\n",
    "* Will read either csv or excel files\n",
    "* Utilizing two-tailed Z test for only two groups for proportions specifically\n",
    "* Need at least 30 observations per group due to normal approximation assumption"
   ]
  },
  {
   "cell_type": "code",
   "execution_count": 49,
   "id": "26917ad2",
   "metadata": {},
   "outputs": [],
   "source": [
    "# Import modules\n",
    "import pandas as pd\n",
    "import numpy as np\n",
    "import scipy.stats as stats\n",
    "from scipy.stats import binom\n",
    "import matplotlib.pyplot as plt\n",
    "import statsmodels.api as sms\n",
    "import statsmodels.stats.power as smp"
   ]
  },
  {
   "cell_type": "code",
   "execution_count": 50,
   "id": "24190870",
   "metadata": {},
   "outputs": [
    {
     "name": "stdout",
     "output_type": "stream",
     "text": [
      "What is the file path for the data?C:\\Users\\19728\\Desktop\\EPPS 6317\\Final\\cookie_cats.csv\n"
     ]
    }
   ],
   "source": [
    "# Prompt user for data\n",
    "data = input(\"What is the file path for the data?\")"
   ]
  },
  {
   "cell_type": "code",
   "execution_count": 51,
   "id": "a50e7428",
   "metadata": {},
   "outputs": [
    {
     "name": "stdout",
     "output_type": "stream",
     "text": [
      "Reading file.\n"
     ]
    }
   ],
   "source": [
    "# Read data - can work with either excel or csv files\n",
    "while(True):\n",
    "        if 'xls' in data[-4:]:\n",
    "            read_file = pd.read_excel(data)\n",
    "            print(\"Reading file.\")\n",
    "            break\n",
    "        elif 'csv' in data[-3:]:\n",
    "            read_file = pd.read_csv(data)\n",
    "            print(\"Reading file.\")\n",
    "            break\n",
    "        else:\n",
    "            print(\"File not found.Please try again.\")\n",
    "            data = input(\"What is the file path for the data?\")"
   ]
  },
  {
   "cell_type": "markdown",
   "id": "7f7aeffc",
   "metadata": {},
   "source": [
    "# Check for Duplicate Rows"
   ]
  },
  {
   "cell_type": "code",
   "execution_count": 52,
   "id": "0d6d4471",
   "metadata": {},
   "outputs": [
    {
     "name": "stdout",
     "output_type": "stream",
     "text": [
      "No duplicate records found.\n"
     ]
    }
   ],
   "source": [
    "if read_file.duplicated().sum() != 0:\n",
    "    print(\"Duplicate records found.\")\n",
    "else:\n",
    "    print(\"No duplicate records found.\")"
   ]
  },
  {
   "cell_type": "markdown",
   "id": "4a085ea0",
   "metadata": {},
   "source": [
    "# Check for Unique ID Duplicates"
   ]
  },
  {
   "cell_type": "code",
   "execution_count": 53,
   "id": "308850c6",
   "metadata": {},
   "outputs": [
    {
     "name": "stdout",
     "output_type": "stream",
     "text": [
      "Columns:\n",
      "userid\n",
      "version\n",
      "sum_gamerounds\n",
      "retention_1\n",
      "retention_7\n",
      "Which column is a unique identifier of observations?userid\n",
      "No duplicate userids found.\n"
     ]
    }
   ],
   "source": [
    "columns = []\n",
    "print(\"Columns:\")\n",
    "for col in read_file.columns:\n",
    "    print(col.strip())\n",
    "    columns.append(col.strip())\n",
    "ids = input(\"Which column is a unique identifier of observations?\")\n",
    "while ids not in columns:\n",
    "    print(\"Column not found. Please try again.\")\n",
    "    ids = input(\"Which column is a unique identifier of observations?\")\n",
    "else:\n",
    "    for i in range(0,len(columns)):\n",
    "        if columns[i] == ids:\n",
    "            id_index = i\n",
    "            id_column = read_file.iloc[:,id_index]\n",
    "            if len(id_column) == len(set(id_column)):\n",
    "                print(\"No duplicate \" + ids + \"s found.\")\n",
    "            else:\n",
    "                print(\"Duplicates found. Please review dataset.\")"
   ]
  },
  {
   "cell_type": "markdown",
   "id": "432066dc",
   "metadata": {},
   "source": [
    "# Prompt for Group Column \n",
    "## Check for 1 Control Group and 1 Test Group"
   ]
  },
  {
   "cell_type": "code",
   "execution_count": 58,
   "id": "c95ed618",
   "metadata": {},
   "outputs": [
    {
     "name": "stdout",
     "output_type": "stream",
     "text": [
      "Columns:\n",
      "userid\n",
      "version\n",
      "sum_gamerounds\n",
      "retention_1\n",
      "retention_7\n",
      "Which column identifies the control and test groups?version\n",
      "Now using 'version' for control/test group.\n"
     ]
    }
   ],
   "source": [
    "columns = []\n",
    "print(\"Columns:\")\n",
    "for col in read_file.columns:\n",
    "    print(col.strip())\n",
    "    columns.append(col.strip())\n",
    "groups = input(\"Which column identifies the control and test groups?\")\n",
    "while groups not in columns:\n",
    "    print(\"Column not found. Please try again.\")\n",
    "    groups = input(\"Which column identifies the control and test groups?\")\n",
    "else:\n",
    "    if len(set(read_file[groups])) > 2:\n",
    "        print(\"Cannot perform A/B test: Data contains more than 2 groups\")\n",
    "    elif len(set(read_file[groups])) < 2:\n",
    "        print(\"Cannot perform A/B test: Data does not contain at least 2 groups\")\n",
    "    else:\n",
    "        for j in range(0,len(columns)):\n",
    "            if columns[j] == groups:\n",
    "                group_index = j\n",
    "                group_column = read_file.iloc[:,group_index]\n",
    "                print(\"Now using '\" + groups +\"' for control/test group.\")"
   ]
  },
  {
   "cell_type": "markdown",
   "id": "74d42e39",
   "metadata": {},
   "source": [
    "## Get column for binomial outcome"
   ]
  },
  {
   "cell_type": "code",
   "execution_count": 71,
   "id": "1151b79c",
   "metadata": {},
   "outputs": [
    {
     "name": "stdout",
     "output_type": "stream",
     "text": [
      "Columns:\n",
      "userid\n",
      "version\n",
      "sum_gamerounds\n",
      "retention_1\n",
      "retention_7\n",
      "Which column displays the binomial outcome?retention_1\n",
      "Now using 'retention_1' as binary outcome variable.\n"
     ]
    }
   ],
   "source": [
    "columns = []\n",
    "print(\"Columns:\")\n",
    "for col in read_file.columns:\n",
    "    print(col.strip())\n",
    "    columns.append(col.strip())\n",
    "outcome = input(\"Which column displays the binomial outcome?\")\n",
    "while outcome not in columns:\n",
    "    print(\"Column not found. Please try again.\")\n",
    "    outcome = input(\"Which column displays the binomial outcome?\")\n",
    "else:\n",
    "    for k in range(0,len(columns)):\n",
    "        if columns[k] == outcome:\n",
    "            outcome_index = k\n",
    "            outcome_column = read_file.iloc[:,outcome_index]\n",
    "            print(\"Now using '\" + outcome +\"' as binary outcome variable.\")"
   ]
  },
  {
   "cell_type": "markdown",
   "id": "4d8d38e7",
   "metadata": {},
   "source": [
    "## Ensure there are at least 30 observations per group"
   ]
  },
  {
   "cell_type": "code",
   "execution_count": 73,
   "id": "1148ed8d",
   "metadata": {},
   "outputs": [],
   "source": [
    "results = read_file.groupby(by=group_column).sum()\n",
    "groupA = read_file[group_column == results.index[0]]\n",
    "groupB = read_file[group_column == results.index[1]]\n",
    "if len(groupA)<30 or len(groupB)<30:\n",
    "    print(\"One or more groups have less than 30 observations. Need more observations (for normal approximation).\")"
   ]
  },
  {
   "cell_type": "markdown",
   "id": "90c6d5a6",
   "metadata": {},
   "source": [
    "## Get Proportions for Each Group"
   ]
  },
  {
   "cell_type": "code",
   "execution_count": 74,
   "id": "a5bce40a",
   "metadata": {},
   "outputs": [
    {
     "name": "stdout",
     "output_type": "stream",
     "text": [
      "         success  total\n",
      "version                \n",
      "gate_30    20034  44700\n",
      "gate_40    20119  45489\n",
      "\n",
      "A Proportion:\t0.4482\n",
      "B Proportion:\t0.4423\n"
     ]
    }
   ],
   "source": [
    "new_file = read_file.iloc[:,[group_index,outcome_index]]\n",
    "new = pd.DataFrame()\n",
    "new['success'] = new_file.groupby(by=[group_column]).sum()\n",
    "new['total'] = pd.DataFrame(new_file.groupby(by=[group_column]).count().iloc[:,1])\n",
    "pr_A = new['success'][0]/new['total'][0]\n",
    "pr_B = new['success'][1]/new['total'][1]\n",
    "\n",
    "\n",
    "ab_test = pd.concat([groupA, groupB], axis=0)\n",
    "ab_test.reset_index(drop=True, inplace=True)\n",
    "pr_A = groupA[outcome].mean()\n",
    "pr_B = groupB[outcome].mean()\n",
    "N_A = len(groupA)\n",
    "N_B = len(groupB)\n",
    "observations = N_A+N_B\n",
    "\n",
    "print(str(new)+'\\n')\n",
    "\n",
    "print('A Proportion:\\t' +str(round(pr_A,4)))\n",
    "print('B Proportion:\\t' +str(round(pr_B,4)))"
   ]
  },
  {
   "cell_type": "markdown",
   "id": "c9ebd1d4",
   "metadata": {},
   "source": [
    "# Set Confidence Level for Test\n",
    "### For reducing chance of false positive"
   ]
  },
  {
   "cell_type": "code",
   "execution_count": 75,
   "id": "f76c2748",
   "metadata": {
    "scrolled": true
   },
   "outputs": [
    {
     "name": "stdout",
     "output_type": "stream",
     "text": [
      "What significance level do you want to test (i.e. 0.05, 0.10, etc)?0.1\n",
      "Setting alpha to 0.1.\n"
     ]
    }
   ],
   "source": [
    "alpha = float(input('What significance level do you want to test (i.e. 0.05, 0.10, etc)?'))\n",
    "print(\"Setting alpha to \"+str(alpha)+\".\")"
   ]
  },
  {
   "cell_type": "markdown",
   "id": "39fffdb6",
   "metadata": {},
   "source": [
    "# Calculate Statistical Power of Test\n",
    "### For understanding chance of false negative"
   ]
  },
  {
   "cell_type": "code",
   "execution_count": 76,
   "id": "a70aacb4",
   "metadata": {},
   "outputs": [
    {
     "name": "stdout",
     "output_type": "stream",
     "text": [
      "What's the baseline rate?.19\n",
      "What is the minimum detectable effect you are looking for (i.e. 0.01 change or 0.02 change)?.1\n",
      "Power of this test is: 1.0\n"
     ]
    }
   ],
   "source": [
    "baseline = float(input(\"What's the baseline rate?\"))\n",
    "mde = float(input(\"What is the minimum detectable effect you are looking for \\\n",
    "(i.e. 0.01 change or 0.02 change)?\"))\n",
    "effect_size = sms.stats.proportion_effectsize(baseline,baseline+mde)    \n",
    "\n",
    "power = smp.NormalIndPower().solve_power(effect_size, nobs1 = observations/2,alpha=alpha,ratio=1)                                      \n",
    "\n",
    "print(\"Power of this test is: \" +str(round(power,5)))"
   ]
  },
  {
   "cell_type": "markdown",
   "id": "07cad733",
   "metadata": {},
   "source": [
    "## Results of test: z-statistic"
   ]
  },
  {
   "cell_type": "code",
   "execution_count": 79,
   "id": "5def51e4",
   "metadata": {},
   "outputs": [
    {
     "data": {
      "image/png": "[encoded data removed]",
      "text/plain": [
       "<Figure size 720x432 with 1 Axes>"
      ]
     },
     "metadata": {
      "needs_background": "light"
     },
     "output_type": "display_data"
    }
   ],
   "source": [
    "A = groupA[outcome].sum()\n",
    "B = groupB[outcome].sum()\n",
    "n_pr_A = 1-pr_A\n",
    "n_pr_B = 1-pr_B\n",
    "\n",
    "A_hat = A / N_A\n",
    "B_hat = B / N_B\n",
    "\n",
    "pooled_hat = (A + B)/(N_A + N_B)\n",
    "\n",
    "\n",
    "fig, ax = plt.subplots(figsize=(10,6))\n",
    "if A > 4000:\n",
    "    minus = 349\n",
    "    plus = 350\n",
    "    tot = 700\n",
    "else:\n",
    "    minus = 99\n",
    "    plus = 100\n",
    "    tot = 200\n",
    "xA = np.linspace(A-minus, A+plus, tot)\n",
    "yA = stats.binom.pmf(xA,N_A,pr_A)\n",
    "ax.bar(xA, yA, alpha=0.5)\n",
    "xB = np.linspace(B-minus, B+plus, tot)\n",
    "yB = stats.binom.pmf(xB,N_B,pr_B)\n",
    "ax.bar(xB, yB, alpha=0.5)\n",
    "plt.xlabel('success')\n",
    "plt.ylabel('probability')\n",
    "plt.title(\"Distributions for Group A and Group B\")\n",
    "plt.show()"
   ]
  },
  {
   "cell_type": "code",
   "execution_count": 78,
   "id": "bcc5f1a7",
   "metadata": {},
   "outputs": [
    {
     "name": "stdout",
     "output_type": "stream",
     "text": [
      "Do not reject null hypothesis that there is no significant difference between proportions for A and B\n",
      "Critical Z-Score: \t 1.64\n",
      "Test Statistic: \t 1.4\n",
      "Test P_value: \t\t 0.16\n",
      "Confidence Interval\n",
      "(of 2 sample Z-test):  [-0.001   0.0128]\n"
     ]
    },
    {
     "data": {
      "image/png": "[encoded data removed]",
      "text/plain": [
       "<Figure size 432x288 with 1 Axes>"
      ]
     },
     "metadata": {
      "needs_background": "light"
     },
     "output_type": "display_data"
    }
   ],
   "source": [
    "# Z test for proportions\n",
    "\n",
    "# Pooled Standard Error \n",
    "pooled_SE = np.sqrt(pooled_hat*(1-pooled_hat) * (1/N_A + 1/B))\n",
    "\n",
    "# critical value using the standard normal distribution\n",
    "critical_z = stats.norm.ppf(1-alpha/2)\n",
    "\n",
    "# test statistics\n",
    "test_stat = round((A_hat - B_hat)/pooled_SE,2)\n",
    "\n",
    "# Margin of error\n",
    "m = pooled_SE * critical_z\n",
    "\n",
    "# two sided test and using symmetry property of Normal distibution so we multiply with 2\n",
    "p_value = stats.norm.sf(test_stat)*2\n",
    "\n",
    "# Confidence Interval\n",
    "CI = [(A_hat-B_hat) - pooled_SE * critical_z, (A_hat-B_hat) + pooled_SE * critical_z]\n",
    "\n",
    "if np.abs(test_stat) >= critical_z:\n",
    "    print(\"Reject null hypothesis that there is no significant difference between proportions for A and B\")\n",
    "    print(round(p_value,4))\n",
    "else:\n",
    "    print(\"Do not reject null hypothesis that there is no significant difference between proportions for A and B\")\n",
    "\n",
    "\n",
    "print(\"Critical Z-Score: \\t\", round(critical_z,2))\n",
    "print(\"Test Statistic: \\t\", test_stat)\n",
    "print(\"Test P_value: \\t\\t\", round(p_value,2))\n",
    "print(\"Confidence Interval\\n(of 2 sample Z-test): \", np.round(CI,4))\n",
    "\n",
    "z_range = np.arange(-3,3,  0.1)\n",
    "plt.plot(z_range, stats.norm.pdf(z_range), label = 'Standard Normal Distribution',color = 'black',linewidth = 2.5)\n",
    "plt.fill_between(z_range[z_range>critical_z], stats.norm.pdf(z_range[z_range>critical_z]),color ='yellow' )\n",
    "plt.fill_between(z_range[z_range<(-1)*critical_z], stats.norm.pdf(z_range[z_range<(-1)*critical_z]), \n",
    "                 label = 'Rejection Region',color ='yellow' )\n",
    "plt.axvline(test_stat, color = 'red',linestyle ='--',label='Test Statistic')\n",
    "plt.text(test_stat, 0, test_stat,rotation=0, horizontalalignment='right')\n",
    "plt.title(\"Two Sample Z-test Rejection Regions\")\n",
    "plt.legend(bbox_to_anchor=(1.6,1))\n",
    "plt.show()"
   ]
  },
  {
   "cell_type": "markdown",
   "id": "32a996ce",
   "metadata": {},
   "source": [
    "Data Source: \n",
    "\n",
    "https://www.kaggle.com/code/mursideyarkin/mobile-games-ab-testing-with-cookie-cats/data?select=cookie_cats.csv\n",
    "\n",
    "References:\n",
    "1. https://towardsdatascience.com/the-math-behind-a-b-testing-with-example-code-part-1-of-2-7be752e1d06f\n",
    "\n",
    "2. https://towardsdatascience.com/ab-testing-with-python-e5964dd66143\n"
   ]
  }
 ],
 "metadata": {
  "kernelspec": {
   "display_name": "Python 3 (ipykernel)",
   "language": "python",
   "name": "python3"
  },
  "language_info": {
   "codemirror_mode": {
    "name": "ipython",
    "version": 3
   },
   "file_extension": ".py",
   "mimetype": "text/x-python",
   "name": "python",
   "nbconvert_exporter": "python",
   "pygments_lexer": "ipython3",
   "version": "3.9.7"
  }
 },
 "nbformat": 4,
 "nbformat_minor": 5
}
